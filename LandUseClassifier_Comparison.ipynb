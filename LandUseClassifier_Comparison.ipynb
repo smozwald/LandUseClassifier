{
  "nbformat": 4,
  "nbformat_minor": 0,
  "metadata": {
    "colab": {
      "name": "LandUseClassifier-Comparison",
      "version": "0.3.2",
      "provenance": [],
      "collapsed_sections": [],
      "include_colab_link": true
    },
    "kernelspec": {
      "name": "python3",
      "display_name": "Python 3"
    }
  },
  "cells": [
    {
      "cell_type": "markdown",
      "metadata": {
        "id": "view-in-github",
        "colab_type": "text"
      },
      "source": [
        "<a href=\"https://colab.research.google.com/github/smozwald/LandUseClassifier/blob/master/LandUseClassifier_Comparison.ipynb\" target=\"_parent\"><img src=\"https://colab.research.google.com/assets/colab-badge.svg\" alt=\"Open In Colab\"/></a>"
      ]
    },
    {
      "metadata": {
        "id": "U3KzkZ5AtKH1",
        "colab_type": "text"
      },
      "cell_type": "markdown",
      "source": [
        "# Land Use Classifier - Comparing Different Types\n",
        "\n",
        "The purpose of this notebook is to use a larger dataset to better investigate how land use classification can be accomplished. The dataset is the DeepGlobe RGB dataset, with each image provided having a mask additionally included. Each image(and associated mask) is 2448 * 2448 pixels. Will first use our basic UNet to train it, after dividing into train and test and importing the datasets."
      ]
    },
    {
      "metadata": {
        "id": "m_WweQSmtDUn",
        "colab_type": "code",
        "colab": {}
      },
      "cell_type": "code",
      "source": [
        ""
      ],
      "execution_count": 0,
      "outputs": []
    },
    {
      "metadata": {
        "id": "UHwidAG3tG-x",
        "colab_type": "text"
      },
      "cell_type": "markdown",
      "source": [
        ""
      ]
    }
  ]
}